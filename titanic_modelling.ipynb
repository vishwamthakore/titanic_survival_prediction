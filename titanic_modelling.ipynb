{
  "nbformat": 4,
  "nbformat_minor": 0,
  "metadata": {
    "colab": {
      "name": "titanic_modelling.ipynb",
      "provenance": []
    },
    "kernelspec": {
      "name": "python3",
      "display_name": "Python 3"
    }
  },
  "cells": [
    {
      "cell_type": "markdown",
      "metadata": {
        "id": "ks7FYn8dBcA-"
      },
      "source": [
        "# Loading prepared data (train and test)"
      ]
    },
    {
      "cell_type": "code",
      "metadata": {
        "id": "95RpHvDRB7Ep"
      },
      "source": [
        "import pandas as pd\n",
        "import numpy as np"
      ],
      "execution_count": null,
      "outputs": []
    },
    {
      "cell_type": "code",
      "metadata": {
        "id": "hJi2OJd9_EcV"
      },
      "source": [
        "X_train = pd.read_csv('/content/drive/My Drive/titanic/train_dataset.csv')\n",
        "X_test = pd.read_csv('/content/drive/My Drive/titanic/test_dataset.csv')"
      ],
      "execution_count": null,
      "outputs": []
    },
    {
      "cell_type": "code",
      "metadata": {
        "id": "3vqI5TYNCfNw",
        "colab": {
          "base_uri": "https://localhost:8080/",
          "height": 52
        },
        "outputId": "0c880cf6-8d89-4d80-c08d-842ed357160d"
      },
      "source": [
        "print(X_train.shape)\n",
        "print(X_test.shape)"
      ],
      "execution_count": null,
      "outputs": [
        {
          "output_type": "stream",
          "text": [
            "(891, 12)\n",
            "(418, 12)\n"
          ],
          "name": "stdout"
        }
      ]
    },
    {
      "cell_type": "code",
      "metadata": {
        "id": "u-l_EcgkC2zR"
      },
      "source": [
        "train= pd.read_csv('/content/drive/My Drive/titanic/train.csv')\n",
        "y_train= train['Survived']"
      ],
      "execution_count": null,
      "outputs": []
    },
    {
      "cell_type": "code",
      "metadata": {
        "id": "tZ9Ce-0jEmWV",
        "colab": {
          "base_uri": "https://localhost:8080/",
          "height": 35
        },
        "outputId": "d90da6e6-9f49-425e-b286-8a423daaa2d3"
      },
      "source": [
        "y_train.shape"
      ],
      "execution_count": null,
      "outputs": [
        {
          "output_type": "execute_result",
          "data": {
            "text/plain": [
              "(891,)"
            ]
          },
          "metadata": {
            "tags": []
          },
          "execution_count": 5
        }
      ]
    },
    {
      "cell_type": "markdown",
      "metadata": {
        "id": "EYqP5_fNZISi"
      },
      "source": [
        "# Trying out different models"
      ]
    },
    {
      "cell_type": "code",
      "metadata": {
        "id": "93FsZjOBErH4"
      },
      "source": [
        "## Method for parameter tuning"
      ],
      "execution_count": null,
      "outputs": []
    },
    {
      "cell_type": "code",
      "metadata": {
        "id": "cEIiJVkZE3rs"
      },
      "source": [
        "# break train dataset using train test split to train and cv\n",
        "# based on 1 parameter train and find cv accuracy\n",
        "# do this for all parameters\n",
        "# plot graph"
      ],
      "execution_count": null,
      "outputs": []
    },
    {
      "cell_type": "code",
      "metadata": {
        "id": "TFcjA2WhIFpH"
      },
      "source": [
        "# def find_parameters(estimator, list):"
      ],
      "execution_count": null,
      "outputs": []
    },
    {
      "cell_type": "markdown",
      "metadata": {
        "id": "URJRCyHUvM-8"
      },
      "source": [
        "**Decision Tree**"
      ]
    },
    {
      "cell_type": "code",
      "metadata": {
        "id": "FiPmW_SJIar_",
        "colab": {
          "base_uri": "https://localhost:8080/",
          "height": 191
        },
        "outputId": "1ff40dd9-81ed-4f9b-d155-c133ec170d06"
      },
      "source": [
        ">>> from sklearn.model_selection import cross_val_score\n",
        ">>> from sklearn.tree import DecisionTreeClassifier\n",
        "\n",
        "max_depth= [5, 10, 15, 50, None]\n",
        "min_samples_split=[2, 5]\n",
        "for d in max_depth:\n",
        "  for s in min_samples_split:\n",
        "    clf = DecisionTreeClassifier(max_depth=d, min_samples_split=s)\n",
        "    cv_scores= cross_val_score(clf, X_train, y_train, cv=5, \n",
        "                  scoring='accuracy')\n",
        "    print(cv_scores, cv_scores.mean(), d, s)"
      ],
      "execution_count": null,
      "outputs": [
        {
          "output_type": "stream",
          "text": [
            "[0.75418994 0.80898876 0.82022472 0.78089888 0.80898876] 0.7946582135459168 5 2\n",
            "[0.75418994 0.80898876 0.82022472 0.78089888 0.80898876] 0.7946582135459168 5 5\n",
            "[0.70949721 0.81460674 0.85955056 0.79775281 0.82022472] 0.8003264076329171 10 2\n",
            "[0.72067039 0.81460674 0.86516854 0.79775281 0.8258427 ] 0.8048082355156613 10 5\n",
            "[0.72625698 0.79775281 0.83146067 0.79775281 0.81460674] 0.7935660033896177 15 2\n",
            "[0.73743017 0.80337079 0.84269663 0.79213483 0.82022472] 0.7991714267779801 15 5\n",
            "[0.73184358 0.80337079 0.8258427  0.79775281 0.79775281] 0.791312535308518 50 2\n",
            "[0.74301676 0.80337079 0.83707865 0.79775281 0.83146067] 0.8025359362249702 50 5\n",
            "[0.73184358 0.80337079 0.8258427  0.78089888 0.83707865] 0.7958069173309898 None 2\n",
            "[0.74301676 0.79775281 0.83707865 0.79213483 0.81460674] 0.7969179586968803 None 5\n"
          ],
          "name": "stdout"
        }
      ]
    },
    {
      "cell_type": "code",
      "metadata": {
        "id": "LF31R30bKAfL"
      },
      "source": [
        "# Decision Tree\n",
        "# Decision Forrest\n",
        "# GBDT\n",
        "# Naive Bayes\n",
        "# SVM\n",
        "# KNN\n",
        "# Logistoc Regression"
      ],
      "execution_count": null,
      "outputs": []
    },
    {
      "cell_type": "markdown",
      "metadata": {
        "id": "BE-I7_0DwRau"
      },
      "source": [
        "**SVM**"
      ]
    },
    {
      "cell_type": "code",
      "metadata": {
        "id": "bG8eCiiVtWLo",
        "colab": {
          "base_uri": "https://localhost:8080/",
          "height": 104
        },
        "outputId": "5856d098-887d-40eb-d798-8f4dee08c4de"
      },
      "source": [
        "from sklearn.svm import SVC\n",
        "\n",
        "C=[10**-2 , 10**-1 ,10**0 ,10**1 ,10**2 ]\n",
        "for c in C:\n",
        "  clf = SVC(C=c)\n",
        "  cv_scores= cross_val_score(clf, X_train, y_train, cv=5, \n",
        "                  scoring='accuracy')\n",
        "  print(cv_scores, cv_scores.mean())\n",
        "\n",
        "# Best C=10"
      ],
      "execution_count": null,
      "outputs": [
        {
          "output_type": "stream",
          "text": [
            "[0.61452514 0.61797753 0.61797753 0.61797753 0.61235955] 0.6161634548992531\n",
            "[0.79329609 0.79213483 0.79213483 0.7752809  0.81460674] 0.7934906785512523\n",
            "[0.77094972 0.79775281 0.80898876 0.78089888 0.82022472] 0.7957629778419434\n",
            "[0.78212291 0.78651685 0.81460674 0.79775281 0.82022472] 0.8002448057246877\n",
            "[0.7877095  0.7752809  0.81460674 0.81460674 0.83146067] 0.8047329106772958\n"
          ],
          "name": "stdout"
        }
      ]
    },
    {
      "cell_type": "markdown",
      "metadata": {
        "id": "YGGY_Ux8y0VU"
      },
      "source": [
        "**GBDT**"
      ]
    },
    {
      "cell_type": "code",
      "metadata": {
        "id": "S0aBsPonyBFC",
        "colab": {
          "base_uri": "https://localhost:8080/",
          "height": 156
        },
        "outputId": "ddba3efd-e984-40dc-dc1f-dbdcb074d6f6"
      },
      "source": [
        ">>> from sklearn.ensemble import GradientBoostingClassifier\n",
        "\n",
        "learning_rate= [0.1, 0.05]\n",
        "n_estimators= [100, 200, 400, 500]\n",
        "\n",
        "for l in learning_rate:\n",
        "  for e in n_estimators:\n",
        "    clf=GradientBoostingClassifier(learning_rate=l, n_estimators=e)\n",
        "    cv_scores= cross_val_score(clf, X_train, y_train, cv=5, \n",
        "                      scoring='accuracy')\n",
        "    print(cv_scores, cv_scores.mean(),l,e)\n",
        "\n",
        "# learning_rate=.05\n",
        "# n_estimators=200"
      ],
      "execution_count": null,
      "outputs": [
        {
          "output_type": "stream",
          "text": [
            "[0.7877095  0.78651685 0.87078652 0.79213483 0.80898876] 0.8092272926997678 0.1 100\n",
            "[0.77094972 0.79775281 0.85393258 0.79213483 0.8258427 ] 0.8081225284037412 0.1 200\n",
            "[0.75418994 0.76966292 0.85955056 0.82022472 0.83707865] 0.8081413596133326 0.1 400\n",
            "[0.75418994 0.76404494 0.85393258 0.83146067 0.83146067] 0.8070177641077144 0.1 500\n",
            "[0.77653631 0.80337079 0.84269663 0.78089888 0.80337079] 0.8013746783001695 0.05 100\n",
            "[0.7877095  0.78651685 0.85955056 0.79775281 0.82022472] 0.8103508882053857 0.05 200\n",
            "[0.77094972 0.79775281 0.85955056 0.80337079 0.8258427 ] 0.811493314920595 0.05 400\n",
            "[0.75977654 0.79213483 0.86516854 0.8258427  0.83146067] 0.8148766555771767 0.05 500\n"
          ],
          "name": "stdout"
        }
      ]
    },
    {
      "cell_type": "markdown",
      "metadata": {
        "id": "kXtEYkaw2XEe"
      },
      "source": [
        "**Naive Bayes**"
      ]
    },
    {
      "cell_type": "code",
      "metadata": {
        "id": "ef4zzJ2g2WLy",
        "colab": {
          "base_uri": "https://localhost:8080/",
          "height": 35
        },
        "outputId": "ce5f6637-c159-4244-f5ef-a8fffd27a52c"
      },
      "source": [
        ">>> from sklearn.naive_bayes import GaussianNB\n",
        ">>> clf = GaussianNB()\n",
        "cv_scores= cross_val_score(clf, X_train, y_train, cv=5, \n",
        "                  scoring='accuracy')\n",
        "print(cv_scores, cv_scores.mean())\n"
      ],
      "execution_count": null,
      "outputs": [
        {
          "output_type": "stream",
          "text": [
            "[0.65363128 0.74157303 0.78651685 0.78651685 0.80337079] 0.7543217626012179\n"
          ],
          "name": "stdout"
        }
      ]
    },
    {
      "cell_type": "markdown",
      "metadata": {
        "id": "XqEbDlXu7IWK"
      },
      "source": [
        "**Logistic Regression**"
      ]
    },
    {
      "cell_type": "code",
      "metadata": {
        "id": "67WnpcP-zrHB",
        "colab": {
          "base_uri": "https://localhost:8080/",
          "height": 104
        },
        "outputId": "e8d378ec-34ae-4b6b-8b35-ca32a6740984"
      },
      "source": [
        ">>> from sklearn.linear_model import LogisticRegression\n",
        "C=[10**-2 , 10**-1 ,10**0 ,10**1 ,10**2 ]\n",
        "for c in C:\n",
        "  clf = LogisticRegression(C=c)\n",
        "  cv_scores= cross_val_score(clf, X_train, y_train, cv=5, \n",
        "                  scoring='accuracy')\n",
        "  print(cv_scores, cv_scores.mean())\n",
        "\n",
        "# Best C=1"
      ],
      "execution_count": null,
      "outputs": [
        {
          "output_type": "stream",
          "text": [
            "[0.68715084 0.78089888 0.75280899 0.76404494 0.78651685] 0.7542841001820351\n",
            "[0.7150838  0.81460674 0.81460674 0.76404494 0.80898876] 0.7834661979787836\n",
            "[0.7877095  0.79775281 0.78651685 0.78089888 0.80898876] 0.7923733601154981\n",
            "[0.7877095  0.79775281 0.79213483 0.78089888 0.80337079] 0.7923733601154981\n",
            "[0.7877095  0.79775281 0.79213483 0.78089888 0.80337079] 0.7923733601154981\n"
          ],
          "name": "stdout"
        }
      ]
    },
    {
      "cell_type": "markdown",
      "metadata": {
        "id": "J1-zRrO-8PMl"
      },
      "source": [
        "**KNN**"
      ]
    },
    {
      "cell_type": "code",
      "metadata": {
        "id": "yFUB0LYg8Q_w",
        "colab": {
          "base_uri": "https://localhost:8080/",
          "height": 139
        },
        "outputId": "ffa5a384-f9c3-497c-d535-ab335b649373"
      },
      "source": [
        ">>> from sklearn.neighbors import KNeighborsClassifier\n",
        "K=[1,3,5,15,20,25,50]\n",
        "for k in K:\n",
        "  clf = KNeighborsClassifier(n_neighbors=k)\n",
        "  cv_scores= cross_val_score(clf, X_train, y_train, cv=5, \n",
        "                  scoring='accuracy')\n",
        "  print(cv_scores, cv_scores.mean())\n",
        "\n",
        "  # Best k=15 "
      ],
      "execution_count": null,
      "outputs": [
        {
          "output_type": "stream",
          "text": [
            "[0.70391061 0.74157303 0.75280899 0.78089888 0.76404494] 0.7486472914443538\n",
            "[0.74301676 0.7247191  0.78651685 0.79213483 0.78089888] 0.765457284539577\n",
            "[0.72625698 0.74157303 0.81460674 0.79213483 0.79775281] 0.774464879794112\n",
            "[0.74860335 0.76404494 0.80337079 0.76966292 0.8258427 ] 0.7823049400539828\n",
            "[0.74301676 0.76404494 0.80898876 0.76966292 0.80337079] 0.7778168351013746\n",
            "[0.68715084 0.74157303 0.80898876 0.78651685 0.80337079] 0.7655200552382148\n",
            "[0.6424581  0.75280899 0.76404494 0.78089888 0.76966292] 0.7419747661791476\n"
          ],
          "name": "stdout"
        }
      ]
    },
    {
      "cell_type": "markdown",
      "metadata": {
        "id": "jegbUIS773V-"
      },
      "source": [
        "**Ensambling : DT,SVM,GBDT,LR,KN**"
      ]
    },
    {
      "cell_type": "code",
      "metadata": {
        "id": "LuYeKVcP8N9A"
      },
      "source": [
        ">>> from sklearn.ensemble import StackingClassifier\n",
        "\n",
        ">>> estimators = [\n",
        "      ('dt', DecisionTreeClassifier()),\n",
        "      ('svc', SVC(C=10)),\n",
        "      ('gbdt', GradientBoostingClassifier(learning_rate=0.05, n_estimators=200)),\n",
        "      # ('lr', LogisticRegression()),\n",
        "      ('kn', KNeighborsClassifier(n_neighbors=15))\n",
        "      ]\n",
        ">>> ensemble_clf = StackingClassifier(\n",
        "     estimators=estimators, final_estimator=LogisticRegression())\n",
        "\n"
      ],
      "execution_count": null,
      "outputs": []
    },
    {
      "cell_type": "code",
      "metadata": {
        "id": "iXGeCGkk7nzZ",
        "colab": {
          "base_uri": "https://localhost:8080/",
          "height": 35
        },
        "outputId": "2c515312-2a74-49b2-a53b-fef4ce8e85c5"
      },
      "source": [
        "cv_scores= cross_val_score(ensemble_clf, X_train, y_train, cv=5, \n",
        "                  scoring='accuracy')\n",
        "print(cv_scores, cv_scores.mean())"
      ],
      "execution_count": null,
      "outputs": [
        {
          "output_type": "stream",
          "text": [
            "[0.77094972 0.78089888 0.83146067 0.78651685 0.83146067] 0.8002573598644153\n"
          ],
          "name": "stdout"
        }
      ]
    },
    {
      "cell_type": "code",
      "metadata": {
        "id": "uuJ1Z_1EDNq8",
        "colab": {
          "base_uri": "https://localhost:8080/",
          "height": 35
        },
        "outputId": "20f50ce0-7b75-4042-cc5b-2f76141e1a30"
      },
      "source": [
        "from xgboost import XGBClassifier\n",
        "clf= XGBClassifier(learning_rate=0.05, n_estimators=500)\n",
        "cv_scores= cross_val_score(clf, X_train, y_train, cv=5, \n",
        "                  scoring='accuracy')\n",
        "print(cv_scores, cv_scores.mean())"
      ],
      "execution_count": null,
      "outputs": [
        {
          "output_type": "stream",
          "text": [
            "[0.77653631 0.79775281 0.85393258 0.80337079 0.80337079] 0.8069926558282594\n"
          ],
          "name": "stdout"
        }
      ]
    },
    {
      "cell_type": "markdown",
      "metadata": {
        "id": "bzmkmZOqCCOi"
      },
      "source": [
        "# GBDT gives best accuracy so far"
      ]
    },
    {
      "cell_type": "code",
      "metadata": {
        "id": "YRU-eepCEoQu",
        "colab": {
          "base_uri": "https://localhost:8080/",
          "height": 202
        },
        "outputId": "35ef7d4d-68e6-4f08-cc0b-d57647bbdc7e"
      },
      "source": [
        "X_test.head(5)"
      ],
      "execution_count": null,
      "outputs": [
        {
          "output_type": "execute_result",
          "data": {
            "text/html": [
              "<div>\n",
              "<style scoped>\n",
              "    .dataframe tbody tr th:only-of-type {\n",
              "        vertical-align: middle;\n",
              "    }\n",
              "\n",
              "    .dataframe tbody tr th {\n",
              "        vertical-align: top;\n",
              "    }\n",
              "\n",
              "    .dataframe thead th {\n",
              "        text-align: right;\n",
              "    }\n",
              "</style>\n",
              "<table border=\"1\" class=\"dataframe\">\n",
              "  <thead>\n",
              "    <tr style=\"text-align: right;\">\n",
              "      <th></th>\n",
              "      <th>male</th>\n",
              "      <th>1</th>\n",
              "      <th>2</th>\n",
              "      <th>3</th>\n",
              "      <th>Fare</th>\n",
              "      <th>C</th>\n",
              "      <th>Q</th>\n",
              "      <th>S</th>\n",
              "      <th>0</th>\n",
              "      <th>1.1</th>\n",
              "      <th>2.1</th>\n",
              "      <th>Parch</th>\n",
              "    </tr>\n",
              "  </thead>\n",
              "  <tbody>\n",
              "    <tr>\n",
              "      <th>0</th>\n",
              "      <td>1</td>\n",
              "      <td>0</td>\n",
              "      <td>0</td>\n",
              "      <td>1</td>\n",
              "      <td>-0.490783</td>\n",
              "      <td>0</td>\n",
              "      <td>1</td>\n",
              "      <td>0</td>\n",
              "      <td>1</td>\n",
              "      <td>0</td>\n",
              "      <td>0</td>\n",
              "      <td>0</td>\n",
              "    </tr>\n",
              "    <tr>\n",
              "      <th>1</th>\n",
              "      <td>0</td>\n",
              "      <td>0</td>\n",
              "      <td>0</td>\n",
              "      <td>1</td>\n",
              "      <td>-0.507479</td>\n",
              "      <td>0</td>\n",
              "      <td>0</td>\n",
              "      <td>1</td>\n",
              "      <td>0</td>\n",
              "      <td>1</td>\n",
              "      <td>0</td>\n",
              "      <td>0</td>\n",
              "    </tr>\n",
              "    <tr>\n",
              "      <th>2</th>\n",
              "      <td>1</td>\n",
              "      <td>0</td>\n",
              "      <td>1</td>\n",
              "      <td>0</td>\n",
              "      <td>-0.453367</td>\n",
              "      <td>0</td>\n",
              "      <td>1</td>\n",
              "      <td>0</td>\n",
              "      <td>1</td>\n",
              "      <td>0</td>\n",
              "      <td>0</td>\n",
              "      <td>0</td>\n",
              "    </tr>\n",
              "    <tr>\n",
              "      <th>3</th>\n",
              "      <td>1</td>\n",
              "      <td>0</td>\n",
              "      <td>0</td>\n",
              "      <td>1</td>\n",
              "      <td>-0.474005</td>\n",
              "      <td>0</td>\n",
              "      <td>0</td>\n",
              "      <td>1</td>\n",
              "      <td>1</td>\n",
              "      <td>0</td>\n",
              "      <td>0</td>\n",
              "      <td>0</td>\n",
              "    </tr>\n",
              "    <tr>\n",
              "      <th>4</th>\n",
              "      <td>0</td>\n",
              "      <td>0</td>\n",
              "      <td>0</td>\n",
              "      <td>1</td>\n",
              "      <td>-0.401017</td>\n",
              "      <td>0</td>\n",
              "      <td>0</td>\n",
              "      <td>1</td>\n",
              "      <td>0</td>\n",
              "      <td>1</td>\n",
              "      <td>0</td>\n",
              "      <td>1</td>\n",
              "    </tr>\n",
              "  </tbody>\n",
              "</table>\n",
              "</div>"
            ],
            "text/plain": [
              "   male  1  2  3      Fare  C  Q  S  0  1.1  2.1  Parch\n",
              "0     1  0  0  1 -0.490783  0  1  0  1    0    0      0\n",
              "1     0  0  0  1 -0.507479  0  0  1  0    1    0      0\n",
              "2     1  0  1  0 -0.453367  0  1  0  1    0    0      0\n",
              "3     1  0  0  1 -0.474005  0  0  1  1    0    0      0\n",
              "4     0  0  0  1 -0.401017  0  0  1  0    1    0      1"
            ]
          },
          "metadata": {
            "tags": []
          },
          "execution_count": 22
        }
      ]
    },
    {
      "cell_type": "code",
      "metadata": {
        "id": "4yCCVqe5AwRn"
      },
      "source": [
        "clf= GradientBoostingClassifier(learning_rate=0.05, n_estimators=200)\n",
        "clf.fit(X_train, y_train)\n",
        "predictions= clf.predict(X_test)"
      ],
      "execution_count": null,
      "outputs": []
    },
    {
      "cell_type": "code",
      "metadata": {
        "id": "PO9-zo-NcKLd",
        "colab": {
          "base_uri": "https://localhost:8080/",
          "height": 225
        },
        "outputId": "5841de21-1c9d-4213-91a2-2a31f296811c"
      },
      "source": [
        "for i in range(len(X_train.columns)):\n",
        "  print(i, X_train.columns[i], clf.feature_importances_[i])"
      ],
      "execution_count": null,
      "outputs": [
        {
          "output_type": "stream",
          "text": [
            "0 male 0.5158186799288683\n",
            "1 1 0.021459319574959047\n",
            "2 2 0.0021414192752737334\n",
            "3 3 0.1281678085784307\n",
            "4 Fare 0.250210681549682\n",
            "5 C 0.003933403807104654\n",
            "6 Q 0.009574262659926792\n",
            "7 S 0.01693963612852724\n",
            "8 0 0.0024706472808010286\n",
            "9 1.1 0.0008168537373797109\n",
            "10 2.1 0.016099133218877796\n",
            "11 Parch 0.03236815426016893\n"
          ],
          "name": "stdout"
        }
      ]
    },
    {
      "cell_type": "code",
      "metadata": {
        "id": "kPIleCfQFawA",
        "colab": {
          "base_uri": "https://localhost:8080/",
          "height": 237
        },
        "outputId": "fdcea093-0a10-4b86-9f9d-5721d7cf7bea"
      },
      "source": [
        "test_original= pd.read_csv('/content/drive/My Drive/titanic/test.csv')\n",
        "test_original.head()"
      ],
      "execution_count": null,
      "outputs": [
        {
          "output_type": "execute_result",
          "data": {
            "text/html": [
              "<div>\n",
              "<style scoped>\n",
              "    .dataframe tbody tr th:only-of-type {\n",
              "        vertical-align: middle;\n",
              "    }\n",
              "\n",
              "    .dataframe tbody tr th {\n",
              "        vertical-align: top;\n",
              "    }\n",
              "\n",
              "    .dataframe thead th {\n",
              "        text-align: right;\n",
              "    }\n",
              "</style>\n",
              "<table border=\"1\" class=\"dataframe\">\n",
              "  <thead>\n",
              "    <tr style=\"text-align: right;\">\n",
              "      <th></th>\n",
              "      <th>PassengerId</th>\n",
              "      <th>Pclass</th>\n",
              "      <th>Name</th>\n",
              "      <th>Sex</th>\n",
              "      <th>Age</th>\n",
              "      <th>SibSp</th>\n",
              "      <th>Parch</th>\n",
              "      <th>Ticket</th>\n",
              "      <th>Fare</th>\n",
              "      <th>Cabin</th>\n",
              "      <th>Embarked</th>\n",
              "    </tr>\n",
              "  </thead>\n",
              "  <tbody>\n",
              "    <tr>\n",
              "      <th>0</th>\n",
              "      <td>892</td>\n",
              "      <td>3</td>\n",
              "      <td>Kelly, Mr. James</td>\n",
              "      <td>male</td>\n",
              "      <td>34.5</td>\n",
              "      <td>0</td>\n",
              "      <td>0</td>\n",
              "      <td>330911</td>\n",
              "      <td>7.8292</td>\n",
              "      <td>NaN</td>\n",
              "      <td>Q</td>\n",
              "    </tr>\n",
              "    <tr>\n",
              "      <th>1</th>\n",
              "      <td>893</td>\n",
              "      <td>3</td>\n",
              "      <td>Wilkes, Mrs. James (Ellen Needs)</td>\n",
              "      <td>female</td>\n",
              "      <td>47.0</td>\n",
              "      <td>1</td>\n",
              "      <td>0</td>\n",
              "      <td>363272</td>\n",
              "      <td>7.0000</td>\n",
              "      <td>NaN</td>\n",
              "      <td>S</td>\n",
              "    </tr>\n",
              "    <tr>\n",
              "      <th>2</th>\n",
              "      <td>894</td>\n",
              "      <td>2</td>\n",
              "      <td>Myles, Mr. Thomas Francis</td>\n",
              "      <td>male</td>\n",
              "      <td>62.0</td>\n",
              "      <td>0</td>\n",
              "      <td>0</td>\n",
              "      <td>240276</td>\n",
              "      <td>9.6875</td>\n",
              "      <td>NaN</td>\n",
              "      <td>Q</td>\n",
              "    </tr>\n",
              "    <tr>\n",
              "      <th>3</th>\n",
              "      <td>895</td>\n",
              "      <td>3</td>\n",
              "      <td>Wirz, Mr. Albert</td>\n",
              "      <td>male</td>\n",
              "      <td>27.0</td>\n",
              "      <td>0</td>\n",
              "      <td>0</td>\n",
              "      <td>315154</td>\n",
              "      <td>8.6625</td>\n",
              "      <td>NaN</td>\n",
              "      <td>S</td>\n",
              "    </tr>\n",
              "    <tr>\n",
              "      <th>4</th>\n",
              "      <td>896</td>\n",
              "      <td>3</td>\n",
              "      <td>Hirvonen, Mrs. Alexander (Helga E Lindqvist)</td>\n",
              "      <td>female</td>\n",
              "      <td>22.0</td>\n",
              "      <td>1</td>\n",
              "      <td>1</td>\n",
              "      <td>3101298</td>\n",
              "      <td>12.2875</td>\n",
              "      <td>NaN</td>\n",
              "      <td>S</td>\n",
              "    </tr>\n",
              "  </tbody>\n",
              "</table>\n",
              "</div>"
            ],
            "text/plain": [
              "   PassengerId  Pclass  ... Cabin Embarked\n",
              "0          892       3  ...   NaN        Q\n",
              "1          893       3  ...   NaN        S\n",
              "2          894       2  ...   NaN        Q\n",
              "3          895       3  ...   NaN        S\n",
              "4          896       3  ...   NaN        S\n",
              "\n",
              "[5 rows x 11 columns]"
            ]
          },
          "metadata": {
            "tags": []
          },
          "execution_count": 67
        }
      ]
    },
    {
      "cell_type": "code",
      "metadata": {
        "id": "GiOByfPRFuL2"
      },
      "source": [
        "test_original['Survived']= predictions"
      ],
      "execution_count": null,
      "outputs": []
    },
    {
      "cell_type": "code",
      "metadata": {
        "id": "MBlDsK0FF4lX",
        "colab": {
          "base_uri": "https://localhost:8080/",
          "height": 79
        },
        "outputId": "202a5fa4-d997-463c-8f54-0d2301646db2"
      },
      "source": [
        "test_original.head(1)"
      ],
      "execution_count": null,
      "outputs": [
        {
          "output_type": "execute_result",
          "data": {
            "text/html": [
              "<div>\n",
              "<style scoped>\n",
              "    .dataframe tbody tr th:only-of-type {\n",
              "        vertical-align: middle;\n",
              "    }\n",
              "\n",
              "    .dataframe tbody tr th {\n",
              "        vertical-align: top;\n",
              "    }\n",
              "\n",
              "    .dataframe thead th {\n",
              "        text-align: right;\n",
              "    }\n",
              "</style>\n",
              "<table border=\"1\" class=\"dataframe\">\n",
              "  <thead>\n",
              "    <tr style=\"text-align: right;\">\n",
              "      <th></th>\n",
              "      <th>PassengerId</th>\n",
              "      <th>Pclass</th>\n",
              "      <th>Name</th>\n",
              "      <th>Sex</th>\n",
              "      <th>Age</th>\n",
              "      <th>SibSp</th>\n",
              "      <th>Parch</th>\n",
              "      <th>Ticket</th>\n",
              "      <th>Fare</th>\n",
              "      <th>Cabin</th>\n",
              "      <th>Embarked</th>\n",
              "      <th>Survived</th>\n",
              "    </tr>\n",
              "  </thead>\n",
              "  <tbody>\n",
              "    <tr>\n",
              "      <th>0</th>\n",
              "      <td>892</td>\n",
              "      <td>3</td>\n",
              "      <td>Kelly, Mr. James</td>\n",
              "      <td>male</td>\n",
              "      <td>34.5</td>\n",
              "      <td>0</td>\n",
              "      <td>0</td>\n",
              "      <td>330911</td>\n",
              "      <td>7.8292</td>\n",
              "      <td>NaN</td>\n",
              "      <td>Q</td>\n",
              "      <td>0</td>\n",
              "    </tr>\n",
              "  </tbody>\n",
              "</table>\n",
              "</div>"
            ],
            "text/plain": [
              "   PassengerId  Pclass              Name   Sex  ...    Fare  Cabin  Embarked Survived\n",
              "0          892       3  Kelly, Mr. James  male  ...  7.8292    NaN         Q        0\n",
              "\n",
              "[1 rows x 12 columns]"
            ]
          },
          "metadata": {
            "tags": []
          },
          "execution_count": 69
        }
      ]
    },
    {
      "cell_type": "code",
      "metadata": {
        "id": "Xr06ZT-SF_HE"
      },
      "source": [
        "test_original[['PassengerId', 'Survived']].to_csv('/content/drive/My Drive/titanic/gbdt_predictions.csv', index=False)"
      ],
      "execution_count": null,
      "outputs": []
    },
    {
      "cell_type": "code",
      "metadata": {
        "id": "Ef0F1u7bHB3-",
        "colab": {
          "base_uri": "https://localhost:8080/",
          "height": 35
        },
        "outputId": "d4bc7a5d-1cc2-4ff0-fdfb-d96b658b2e83"
      },
      "source": [
        "(18000-1260)/18000"
      ],
      "execution_count": null,
      "outputs": [
        {
          "output_type": "execute_result",
          "data": {
            "text/plain": [
              "0.93"
            ]
          },
          "metadata": {
            "tags": []
          },
          "execution_count": 72
        }
      ]
    },
    {
      "cell_type": "markdown",
      "metadata": {
        "id": "TdwtH8-1Z_t8"
      },
      "source": [
        "# To Do\n"
      ]
    },
    {
      "cell_type": "code",
      "metadata": {
        "id": "KO9R-KwrIAnz"
      },
      "source": [
        "# create model to predict age\n",
        "# fill missing age in train and test data using model\n",
        "# age can be binned into 3 classes\n",
        "# find feature importance in gbdt (very less usful can be eliminated)\n",
        "# try adding or multiplying features to increase correlation (gender+parch)"
      ],
      "execution_count": null,
      "outputs": []
    },
    {
      "cell_type": "markdown",
      "metadata": {
        "id": "PvT7qCXzb9ik"
      },
      "source": [
        ""
      ]
    }
  ]
}